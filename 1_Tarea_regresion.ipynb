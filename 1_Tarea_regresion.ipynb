{
  "nbformat": 4,
  "nbformat_minor": 0,
  "metadata": {
    "colab": {
      "name": "1. Tarea regresion",
      "provenance": [],
      "collapsed_sections": [],
      "authorship_tag": "ABX9TyMRHxZbcn9YdNiCsUS5Ul5R",
      "include_colab_link": true
    },
    "kernelspec": {
      "name": "python3",
      "display_name": "Python 3"
    }
  },
  "cells": [
    {
      "cell_type": "markdown",
      "metadata": {
        "id": "view-in-github",
        "colab_type": "text"
      },
      "source": [
        "<a href=\"https://colab.research.google.com/github/econb/data-science-mae/blob/main/1_Tarea_regresion.ipynb\" target=\"_parent\"><img src=\"https://colab.research.google.com/assets/colab-badge.svg\" alt=\"Open In Colab\"/></a>"
      ]
    },
    {
      "cell_type": "markdown",
      "metadata": {
        "id": "5qiROs24GjQD"
      },
      "source": [
        "<font color='gray'>Eduardo Contreras B.  \r\n",
        "Temas Avanzados en Estadística: Ciencia de Datos  \r\n",
        "Universidad Nacional de Colombia</font>\r\n",
        "\r\n",
        "<h1><center><font color='blue'>Entendiendo Jupyter Lab, Github, Python y Regresión Lineal</font></center></h1>\r\n",
        "\r\n",
        "# Introducción\r\n",
        "La regresión lineal es un modelo matemático para aproximar la relación  que permite encontrar la relación entre...\r\n",
        "\r\n",
        "![lm.png](data:image/png;base64,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)\r\n",
        "\r\n",
        "\r\n",
        "\r\n",
        "# Historia\r\n",
        "The earliest form of regression was the method of least squares, which was published by Legendre in 1805,[4] and by Gauss in 1809.\r\n",
        "\r\n",
        "\r\n",
        "\r\n",
        "\r\n",
        "\r\n",
        "# Algoritmo\r\n",
        "$ Y \\sim N_n(XB, \\sigma^2I)$\r\n",
        "\r\n",
        "$L(B) = \\frac{1}{(2\\pi)^{n/2}} \\frac{1}{\\left | \\sigma^2I \\right |^{-1/2}} e^{-\\frac{1}{2\\sigma^2}(Y-XB)^T(Y-XB)} $\r\n",
        "\r\n",
        "$logL(B) = -\\frac{n}{2}log(2\\pi) -\\frac{1}{2}log\\left| \\sigma^2I \\right| -\\frac{1}{2\\sigma^2}(Y-XB)^T(Y-XB)$\r\n",
        "\r\n",
        "$\\frac{\\partial logL(B)}{\\partial B} = -\\frac{1}{2}\\frac{2}{\\sigma^2}(X^TXB-X^TY)$\r\n",
        "\r\n",
        "$\\frac{\\partial logL(B)}{\\partial B} = 0$\r\n",
        "\r\n",
        "$-\\frac{1}{\\sigma^2}(X^TXB-X^TY) = 0$\r\n",
        "\r\n",
        "$\\hat{B}=(X^TX)^{-1}X^TY$\r\n",
        "\r\n",
        "\r\n",
        "# Ejemplo"
      ]
    },
    {
      "cell_type": "code",
      "metadata": {
        "id": "sL0olmzrL-kY"
      },
      "source": [
        "#Read data\r\n",
        "import statsmodels.api as sm\r\n",
        "from sklearn import datasets\r\n",
        "import pandas as pd\r\n",
        "\r\n",
        "data = datasets.load_boston()\r\n",
        "X = pd.DataFrame(data.data, columns=data.feature_names) #data.data is a numpy ndarray\r\n",
        "Y = pd.DataFrame(data.target, columns=[\"MEDV\"]) #data.target is a numpy ndarray"
      ],
      "execution_count": 32,
      "outputs": []
    },
    {
      "cell_type": "code",
      "metadata": {
        "colab": {
          "base_uri": "https://localhost:8080/"
        },
        "id": "XO6J3SZj9Y07",
        "outputId": "73472641-91ec-445e-e3ce-2334fbb49477"
      },
      "source": [
        "#Linear Regression with statsmodels\r\n",
        "fitsm = sm.OLS(Y, sm.add_constant(X)).fit()\r\n",
        "print(fitsm.summary())"
      ],
      "execution_count": 34,
      "outputs": [
        {
          "output_type": "stream",
          "text": [
            "                            OLS Regression Results                            \n",
            "==============================================================================\n",
            "Dep. Variable:                   MEDV   R-squared:                       0.741\n",
            "Model:                            OLS   Adj. R-squared:                  0.734\n",
            "Method:                 Least Squares   F-statistic:                     108.1\n",
            "Date:                Sun, 14 Mar 2021   Prob (F-statistic):          6.72e-135\n",
            "Time:                        00:21:09   Log-Likelihood:                -1498.8\n",
            "No. Observations:                 506   AIC:                             3026.\n",
            "Df Residuals:                     492   BIC:                             3085.\n",
            "Df Model:                          13                                         \n",
            "Covariance Type:            nonrobust                                         \n",
            "==============================================================================\n",
            "                 coef    std err          t      P>|t|      [0.025      0.975]\n",
            "------------------------------------------------------------------------------\n",
            "const         36.4595      5.103      7.144      0.000      26.432      46.487\n",
            "CRIM          -0.1080      0.033     -3.287      0.001      -0.173      -0.043\n",
            "ZN             0.0464      0.014      3.382      0.001       0.019       0.073\n",
            "INDUS          0.0206      0.061      0.334      0.738      -0.100       0.141\n",
            "CHAS           2.6867      0.862      3.118      0.002       0.994       4.380\n",
            "NOX          -17.7666      3.820     -4.651      0.000     -25.272     -10.262\n",
            "RM             3.8099      0.418      9.116      0.000       2.989       4.631\n",
            "AGE            0.0007      0.013      0.052      0.958      -0.025       0.027\n",
            "DIS           -1.4756      0.199     -7.398      0.000      -1.867      -1.084\n",
            "RAD            0.3060      0.066      4.613      0.000       0.176       0.436\n",
            "TAX           -0.0123      0.004     -3.280      0.001      -0.020      -0.005\n",
            "PTRATIO       -0.9527      0.131     -7.283      0.000      -1.210      -0.696\n",
            "B              0.0093      0.003      3.467      0.001       0.004       0.015\n",
            "LSTAT         -0.5248      0.051    -10.347      0.000      -0.624      -0.425\n",
            "==============================================================================\n",
            "Omnibus:                      178.041   Durbin-Watson:                   1.078\n",
            "Prob(Omnibus):                  0.000   Jarque-Bera (JB):              783.126\n",
            "Skew:                           1.521   Prob(JB):                    8.84e-171\n",
            "Kurtosis:                       8.281   Cond. No.                     1.51e+04\n",
            "==============================================================================\n",
            "\n",
            "Warnings:\n",
            "[1] Standard Errors assume that the covariance matrix of the errors is correctly specified.\n",
            "[2] The condition number is large, 1.51e+04. This might indicate that there are\n",
            "strong multicollinearity or other numerical problems.\n"
          ],
          "name": "stdout"
        }
      ]
    },
    {
      "cell_type": "code",
      "metadata": {
        "colab": {
          "base_uri": "https://localhost:8080/"
        },
        "id": "VO5eVcFT-cfO",
        "outputId": "22b82fe9-6ba8-4cde-d50d-fe0abb8e69e9"
      },
      "source": [
        "#Linear Regression with sklearn\r\n",
        "from sklearn import feature_selection\r\n",
        "from sklearn import linear_model\r\n",
        "\r\n",
        "modelskl = linear_model.LinearRegression()\r\n",
        "fitskl = modelskl.fit(X,Y)\r\n",
        "print(\"Coefficients\")\r\n",
        "print(fitskl.coef_)\r\n",
        "\r\n",
        "fvals, pvals = sklearn.feature_selection.f_regression(X, Y)\r\n",
        "print(\"pvalues\")\r\n",
        "print(pvals)\r\n",
        "\r\n",
        "print(\"R-squared\")\r\n",
        "predskl = modelskl.predict(X)\r\n",
        "sklearn.metrics.r2_score(Y, predskl)"
      ],
      "execution_count": 62,
      "outputs": [
        {
          "output_type": "stream",
          "text": [
            "Coefficients\n",
            "[[-1.08011358e-01  4.64204584e-02  2.05586264e-02  2.68673382e+00\n",
            "  -1.77666112e+01  3.80986521e+00  6.92224640e-04 -1.47556685e+00\n",
            "   3.06049479e-01 -1.23345939e-02 -9.52747232e-01  9.31168327e-03\n",
            "  -5.24758378e-01]]\n",
            "pvalues\n",
            "[1.17398708e-19 5.71358415e-17 4.90025998e-31 7.39062317e-05\n",
            " 7.06504159e-24 2.48722887e-74 1.56998221e-18 1.20661173e-08\n",
            " 5.46593257e-19 5.63773363e-29 1.60950948e-34 1.31811273e-14\n",
            " 5.08110339e-88]\n",
            "R-squared\n"
          ],
          "name": "stdout"
        },
        {
          "output_type": "stream",
          "text": [
            "/usr/local/lib/python3.7/dist-packages/sklearn/utils/validation.py:760: DataConversionWarning: A column-vector y was passed when a 1d array was expected. Please change the shape of y to (n_samples, ), for example using ravel().\n",
            "  y = column_or_1d(y, warn=True)\n"
          ],
          "name": "stderr"
        },
        {
          "output_type": "execute_result",
          "data": {
            "text/plain": [
              "0.7406426641094095"
            ]
          },
          "metadata": {
            "tags": []
          },
          "execution_count": 62
        }
      ]
    },
    {
      "cell_type": "code",
      "metadata": {
        "colab": {
          "base_uri": "https://localhost:8080/"
        },
        "id": "zaw09zIvdbb_",
        "outputId": "90abb8bc-7863-440b-98f0-8946eba3a344"
      },
      "source": [
        "#Linear Regresion by computing the equation\r\n",
        "import numpy as np\r\n",
        "\r\n",
        "Xnp = np.asmatrix(sm.add_constant(X).values)\r\n",
        "Ynp = np.asmatrix(Y.values)\r\n",
        "B = np.matmul(np.linalg.inv(np.matmul(Xnp.T,Xnp)), np.matmul(Xnp.T,Ynp))\r\n",
        "B"
      ],
      "execution_count": 82,
      "outputs": [
        {
          "output_type": "execute_result",
          "data": {
            "text/plain": [
              "matrix([[ 3.64594884e+01],\n",
              "        [-1.08011358e-01],\n",
              "        [ 4.64204584e-02],\n",
              "        [ 2.05586264e-02],\n",
              "        [ 2.68673382e+00],\n",
              "        [-1.77666112e+01],\n",
              "        [ 3.80986521e+00],\n",
              "        [ 6.92224640e-04],\n",
              "        [-1.47556685e+00],\n",
              "        [ 3.06049479e-01],\n",
              "        [-1.23345939e-02],\n",
              "        [-9.52747232e-01],\n",
              "        [ 9.31168327e-03],\n",
              "        [-5.24758378e-01]])"
            ]
          },
          "metadata": {
            "tags": []
          },
          "execution_count": 82
        }
      ]
    },
    {
      "cell_type": "markdown",
      "metadata": {
        "id": "TVXZKLvSMK4-"
      },
      "source": [
        "# Conclusiones\r\n",
        "\r\n",
        "\r\n",
        "# Referencias\r\n",
        "https://towardsdatascience.com/simple-and-multiple-linear-regression-in-python-c928425168f9\r\n"
      ]
    }
  ]
}