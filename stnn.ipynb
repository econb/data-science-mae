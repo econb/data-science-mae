{
  "nbformat": 4,
  "nbformat_minor": 0,
  "metadata": {
    "kernelspec": {
      "name": "python3",
      "display_name": "Python 3",
      "language": "python"
    },
    "language_info": {
      "codemirror_mode": {
        "name": "ipython",
        "version": 3
      },
      "file_extension": ".py",
      "mimetype": "text/x-python",
      "name": "python",
      "nbconvert_exporter": "python",
      "pygments_lexer": "ipython3",
      "version": "3.8.5-final"
    },
    "varInspector": {
      "cols": {
        "lenName": 16,
        "lenType": 16,
        "lenVar": 40
      },
      "kernels_config": {
        "python": {
          "delete_cmd_postfix": "",
          "delete_cmd_prefix": "del ",
          "library": "var_list.py",
          "varRefreshCmd": "print(var_dic_list())"
        },
        "r": {
          "delete_cmd_postfix": ") ",
          "delete_cmd_prefix": "rm(",
          "library": "var_list.r",
          "varRefreshCmd": "cat(var_dic_list()) "
        }
      },
      "types_to_exclude": [
        "module",
        "function",
        "builtin_function_or_method",
        "instance",
        "_Feature"
      ],
      "window_display": false
    },
    "colab": {
      "name": "stnn.ipynb",
      "provenance": [],
      "collapsed_sections": [],
      "include_colab_link": true
    }
  },
  "cells": [
    {
      "cell_type": "markdown",
      "metadata": {
        "id": "view-in-github",
        "colab_type": "text"
      },
      "source": [
        "<a href=\"https://colab.research.google.com/github/econb/data-science-mae/blob/main/stnn.ipynb\" target=\"_parent\"><img src=\"https://colab.research.google.com/assets/colab-badge.svg\" alt=\"Open In Colab\"/></a>"
      ]
    },
    {
      "cell_type": "markdown",
      "metadata": {
        "id": "mKQ-YCE11lPl"
      },
      "source": [
        "https://github.com/wtding1998/STNN_nCov/blob/master/train_stnn.py\n"
      ]
    },
    {
      "cell_type": "code",
      "metadata": {
        "colab": {
          "base_uri": "https://localhost:8080/"
        },
        "id": "cDAAzun43-bl",
        "outputId": "af6e916f-fd9b-4e37-9a5c-2e7c70c3ac3f"
      },
      "source": [
        "from google.colab import drive\n",
        "drive.mount('/content/drive')\n",
        "\n",
        "!pwd\n",
        "%cd /content/drive/MyDrive/Colab Notebooks/STNN\n",
        "!pwd\n",
        "\n",
        "!pip install configargparse\n",
        "!pip install torchinfo\n",
        "import os\n",
        "import pandas as pd\n",
        "import result\n",
        "\n",
        "%load_ext autoreload\n",
        "%autoreload 2\n",
        "%reload_ext autoreload"
      ],
      "execution_count": null,
      "outputs": [
        {
          "output_type": "stream",
          "text": [
            "Drive already mounted at /content/drive; to attempt to forcibly remount, call drive.mount(\"/content/drive\", force_remount=True).\n",
            "/content/drive/My Drive/Colab Notebooks/STNN\n",
            "/content/drive/MyDrive/Colab Notebooks/STNN\n",
            "/content/drive/MyDrive/Colab Notebooks/STNN\n",
            "Requirement already satisfied: configargparse in /usr/local/lib/python3.7/dist-packages (1.5.2)\n",
            "Requirement already satisfied: torchinfo in /usr/local/lib/python3.7/dist-packages (1.5.3)\n",
            "The autoreload extension is already loaded. To reload it, use:\n",
            "  %reload_ext autoreload\n"
          ],
          "name": "stdout"
        }
      ]
    },
    {
      "cell_type": "code",
      "metadata": {
        "id": "U_4HRvt18q-l"
      },
      "source": [
        "from train_stnn import get_opt, train_by_opt\n",
        "from utils import DotDict\n",
        "\n",
        "opt = DotDict({'datadir': 'data', 'dataset': 'Italy', 'nt_train': 250, 'nt_val': 10, 'data_normalize': 'x', 'relation_normalize': 'all', 'relations': 'all', 'time_datas': 'all', 'indicate_data': 'confirmed', 'outputdir': 'Italy', 'xp': 'stnn', 'xp_model': True, 'xp_time': True, 'model': 'classical', 'mode': 'default', 'nz': 3, 'activation': 'tanh', 'khop': 1, 'nhid': 20, 'nlayers': 2, 'nhid_de': 20, 'nlayers_de': 2, 'nhid_in': 0, 'nlayers_in': 1, 'dropout_f': 0, 'dropout_d': 0, 'dropout_de': 0, 'dropout_in': 0, 'wd': 1e-06, 'wd_z': 0.0001, 'l2_z': 0.0, 'l1_rel': 0.0, 'lambd': 1, 'lr': 0.001, 'optimizer': 'Adam', 'beta1': 0.9, 'beta2': 0.999, 'eps': 1e-08, 'nepoch': 10000, 'batch_size': 1000000, 'sample_method': 'uniform', 'validate': True, 'es_start': 2300, 'patience': 100, 'es_val_bound': 10000000.0, 'es_wd_factor': 0.1, 'reduce_start': 2300, 'reduce_factor': 0.1, 'test': True, 'train_meantime': False, 'device': -1, 'manualSeed': 2804, 'checkpoint_interval': 100, 'log': True, 'log_relations': False, 'run_min': False, 'show_fig': True})\n",
        "#stnn_model = train_by_opt(opt)"
      ],
      "execution_count": null,
      "outputs": []
    },
    {
      "cell_type": "code",
      "metadata": {
        "colab": {
          "base_uri": "https://localhost:8080/"
        },
        "id": "WtKxQJDwnb5d",
        "outputId": "d8fe40a2-a43d-40d0-fd74-f7d7c1174ebd"
      },
      "source": [
        "from torchinfo import summary\n",
        "summary(stnn_model)"
      ],
      "execution_count": null,
      "outputs": [
        {
          "output_type": "execute_result",
          "data": {
            "text/plain": [
              "=================================================================\n",
              "Layer (type:depth-idx)                   Param #\n",
              "=================================================================\n",
              "SaptioTemporalNN_classical               --\n",
              "├─Dropout: 1-1                           --\n",
              "├─MLP_tanh: 1-2                          --\n",
              "│    └─Sequential: 2-1                   --\n",
              "│    │    └─Linear: 3-1                  80\n",
              "│    │    └─Tanh: 3-2                    --\n",
              "│    │    └─Dropout: 3-3                 --\n",
              "│    │    └─Linear: 3-4                  63\n",
              "├─MLP_tanh: 1-3                          --\n",
              "│    └─Sequential: 2-2                   --\n",
              "│    │    └─Linear: 3-5                  80\n",
              "│    │    └─Tanh: 3-6                    --\n",
              "│    │    └─Dropout: 3-7                 --\n",
              "│    │    └─Linear: 3-8                  21\n",
              "=================================================================\n",
              "Total params: 244\n",
              "Trainable params: 244\n",
              "Non-trainable params: 0\n",
              "================================================================="
            ]
          },
          "metadata": {
            "tags": []
          },
          "execution_count": 13
        }
      ]
    },
    {
      "cell_type": "code",
      "metadata": {
        "colab": {
          "base_uri": "https://localhost:8080/"
        },
        "id": "r8QBM9D14XLa",
        "outputId": "8a85897b-a23a-4fd7-931d-326e5c846242"
      },
      "source": [
        "print(stnn_model)"
      ],
      "execution_count": null,
      "outputs": [
        {
          "output_type": "stream",
          "text": [
            "SaptioTemporalNN_classical(\n",
            "  (drop): Dropout(p=0, inplace=False)\n",
            "  (dynamic): MLP_tanh(\n",
            "    (module): Sequential(\n",
            "      (0): Linear(in_features=3, out_features=20, bias=True)\n",
            "      (1): Tanh()\n",
            "      (2): Dropout(p=0, inplace=False)\n",
            "      (3): Linear(in_features=20, out_features=3, bias=True)\n",
            "    )\n",
            "  )\n",
            "  (decoder): MLP_tanh(\n",
            "    (module): Sequential(\n",
            "      (0): Linear(in_features=3, out_features=20, bias=True)\n",
            "      (1): Tanh()\n",
            "      (2): Dropout(p=0, inplace=False)\n",
            "      (3): Linear(in_features=20, out_features=1, bias=True)\n",
            "    )\n",
            "  )\n",
            ")\n"
          ],
          "name": "stdout"
        }
      ]
    },
    {
      "cell_type": "markdown",
      "metadata": {
        "id": "klGvj_Kdnch0"
      },
      "source": [
        "Summarize the given PyTorch model. Summarized information includes:\n",
        "    1) Layer names,\n",
        "    2) input/output shapes,\n",
        "    3) kernel shape,\n",
        "    4) # of parameters,\n",
        "    5) # of operations (Mult-Adds)\n",
        "\n",
        "NOTE: If neither input_data or input_size are provided, no forward pass through the\n",
        "network is performed, and the provided model information is limited to layer names.\n"
      ]
    },
    {
      "cell_type": "code",
      "metadata": {
        "id": "JZStIiH0EU-C"
      },
      "source": [
        " #-*-coding:utf-8 -*-\n",
        "\n",
        "import os\n",
        "import random\n",
        "import json\n",
        "from collections import defaultdict\n",
        "import datetime\n",
        "\n",
        "import configargparse\n",
        "import numpy as np\n",
        "from tqdm import trange\n",
        "import torch\n",
        "import torch.nn.functional as F\n",
        "import torch.optim as optim\n",
        "\n",
        "from get_dataset import get_stnn_data, get_true_indicate\n",
        "from utils import DotDict, Logger, rmse, boolean_string, get_dir, get_time, time_dir, rmse_sum_confirmed, sample\n",
        "from stnn import SaptioTemporalNN_classical, SaptioTemporalNN_A, SaptioTemporalNN_I\n",
        "import result\n",
        "\n",
        "opt = DotDict({'datadir': 'data', 'dataset': 'Italy', 'nt_train': 250, 'nt_val': 10, 'data_normalize': 'x', 'relation_normalize': 'all', 'relations': 'all', 'time_datas': 'all', 'indicate_data': 'confirmed', 'outputdir': 'Italy', 'xp': 'stnn', 'xp_model': True, 'xp_time': True, 'model': 'classical', 'mode': 'default', 'nz': 3, 'activation': 'tanh', 'khop': 1, 'nhid': 20, 'nlayers': 2, 'nhid_de': 20, 'nlayers_de': 2, 'nhid_in': 0, 'nlayers_in': 1, 'dropout_f': 0, 'dropout_d': 0, 'dropout_de': 0, 'dropout_in': 0, 'wd': 1e-06, 'wd_z': 0.0001, 'l2_z': 0.0, 'l1_rel': 0.0, 'lambd': 1, 'lr': 0.001, 'optimizer': 'Adam', 'beta1': 0.9, 'beta2': 0.999, 'eps': 1e-08, 'nepoch': 10000, 'batch_size': 1000000, 'sample_method': 'uniform', 'validate': True, 'es_start': 2300, 'patience': 100, 'es_val_bound': 10000000.0, 'es_wd_factor': 0.1, 'reduce_start': 2300, 'reduce_factor': 0.1, 'test': True, 'train_meantime': False, 'device': -1, 'manualSeed': 2804, 'checkpoint_interval': 100, 'log': True, 'log_relations': False, 'run_min': False, 'show_fig': True})\n",
        "\n",
        "# path of output directory\n",
        "opt.outputdir = get_dir(opt.outputdir)\n",
        "if opt.xp_model:\n",
        "    opt.xp = opt.xp + '-' + opt.model\n",
        "if opt.xp_time:\n",
        "    opt.xp = opt.xp + \"_\" + get_time()\n",
        "# mode\n",
        "opt.mode = opt.mode if opt.mode in ('refine', 'discover') else None\n",
        "# log time\n",
        "opt.start = time_dir()\n",
        "start_st = datetime.datetime.now()\n",
        "opt.st = datetime.datetime.now().strftime('%y-%m-%d-%H-%M-%S')\n",
        "# cudnn\n",
        "if opt.device > -1:\n",
        "    os.environ[\"CUDA_VISIBLE_DEVICES\"] = str(opt.device)\n",
        "    device = torch.device('cuda:0')\n",
        "else:\n",
        "    device = torch.device('cpu')\n",
        "# seed\n",
        "if opt.manualSeed is None:\n",
        "    opt.manualSeed = random.randint(1, 10000)\n",
        "random.seed(opt.manualSeed)\n",
        "torch.manual_seed(opt.manualSeed)\n",
        "if opt.device > -1:\n",
        "    torch.cuda.manual_seed_all(opt.manualSeed)\n",
        "\n",
        "#######################################################################################################################\n",
        "# Data\n",
        "#######################################################################################################################\n",
        "# -- load data\n",
        "setup, (train_data, no_train_data, validation_data), relations = get_stnn_data(opt.datadir, opt.dataset, opt.nt_train, opt.khop, data_normalize=opt.data_normalize, relation_normalize=opt.relation_normalize, nt_val=opt.nt_val , relations_names=opt.relations, time_datas=opt.time_datas)\n",
        "test_data = no_train_data[opt.nt_val:]\n",
        "test_data = test_data.to(device)\n",
        "train_data = train_data.to(device)\n",
        "relations = relations.to(device)\n",
        "validation_data = validation_data.to(device)\n",
        "# -- load option\n",
        "for k, v in setup.items():\n",
        "    opt[k] = v\n",
        "# --- get true validation\n",
        "true_validation = get_true_indicate(validation_data, opt, indicate_data=opt.indicate_data).to(device)\n",
        "# -- train inputs\n",
        "t_idx = torch.arange(opt.nt_train, out=torch.LongTensor()).unsqueeze(1).expand(opt.nt_train, opt.nx).contiguous()\n",
        "x_idx = torch.arange(opt.nx, out=torch.LongTensor()).expand_as(t_idx).contiguous()\n",
        "# decoder\n",
        "idx_dec = torch.stack((t_idx, x_idx)).view(2, -1).to(device)\n",
        "nex_dec = idx_dec.size(1)\n"
      ],
      "execution_count": null,
      "outputs": []
    },
    {
      "cell_type": "code",
      "metadata": {
        "colab": {
          "base_uri": "https://localhost:8080/"
        },
        "id": "CQRWFoxg5TGc",
        "outputId": "bae138d2-ff32-4970-b4a6-d2a173485234"
      },
      "source": [
        "setup"
      ],
      "execution_count": null,
      "outputs": [
        {
          "output_type": "execute_result",
          "data": {
            "text/plain": [
              "{'data_normalize': 'x',\n",
              " 'datas_order': ['confirmed'],\n",
              " 'mean': [1122.988037109375,\n",
              "  214.45199584960938,\n",
              "  502.0559997558594,\n",
              "  4868.51220703125,\n",
              "  5860.5517578125,\n",
              "  816.8759765625,\n",
              "  5100.6162109375,\n",
              "  1798.7640380859375,\n",
              "  19409.140625,\n",
              "  1550.6600341796875,\n",
              "  155.73599243164062,\n",
              "  721.1439819335938,\n",
              "  610.2999877929688,\n",
              "  6478.02392578125,\n",
              "  1967.9200439453125,\n",
              "  994.1480102539062,\n",
              "  2191.2080078125,\n",
              "  3979.424072265625,\n",
              "  689.0880126953125,\n",
              "  225.03599548339844,\n",
              "  5065.30419921875],\n",
              " 'nd': 1,\n",
              " 'normalize': 'variance',\n",
              " 'nt': 275,\n",
              " 'nt_val': 10,\n",
              " 'nx': 21,\n",
              " 'periode': 275,\n",
              " 'relations_order': ['location', 'migration', 'distance_region'],\n",
              " 'std': [1453.88134765625,\n",
              "  363.05914306640625,\n",
              "  725.431884765625,\n",
              "  10320.388671875,\n",
              "  5870.447265625,\n",
              "  1120.4708251953125,\n",
              "  7807.59033203125,\n",
              "  2108.5869140625,\n",
              "  18492.802734375,\n",
              "  1648.27490234375,\n",
              "  221.07861328125,\n",
              "  1218.29931640625,\n",
              "  669.5475463867188,\n",
              "  8078.73291015625,\n",
              "  2689.14013671875,\n",
              "  1522.7864990234375,\n",
              "  3386.7900390625,\n",
              "  6490.236328125,\n",
              "  1518.350341796875,\n",
              "  423.88787841796875,\n",
              "  6822.021484375]}"
            ]
          },
          "metadata": {
            "tags": []
          },
          "execution_count": 4
        }
      ]
    },
    {
      "cell_type": "code",
      "metadata": {
        "id": "2Eq5u_NbjeKh"
      },
      "source": [
        "#relations, (21,3,21)\n",
        "#opt.nx, num. individuals\n",
        "#opt.nt_train, times for training\n",
        "#opt.nd, \n",
        "#opt.nz, \n",
        "#opt.mode, \n",
        "#opt.nhid, \n",
        "#opt.nlayers,\n",
        "#opt.nhid_de, \n",
        "#opt.nlayers_de, \n",
        "#opt.dropout_f, \n",
        "#opt.dropout_d, \n",
        "#opt.activation, \n",
        "#opt.periode\n",
        "\n",
        "model = SaptioTemporalNN_classical(relations, opt.nx, opt.nt_train, opt.nd, opt.nz, opt.mode, opt.nhid, opt.nlayers,\n",
        "                                  opt.nhid_de, opt.nlayers_de, opt.dropout_f, opt.dropout_d, opt.activation, opt.periode).to(device)\n",
        "idx_dyn = torch.stack((t_idx[1:], x_idx[1:])).view(2, -1).to(device)\n",
        "nex_dyn = idx_dyn.size(1)\n",
        "params = [{'params': model.factors_parameters(), 'weight_decay': opt.wd_z},\n",
        "      {'params': model.dynamic.parameters()},\n",
        "      {'params': model.decoder.parameters()}]"
      ],
      "execution_count": null,
      "outputs": []
    },
    {
      "cell_type": "code",
      "metadata": {
        "id": "5cbujG5OuZBR"
      },
      "source": [
        ""
      ],
      "execution_count": null,
      "outputs": []
    },
    {
      "cell_type": "markdown",
      "metadata": {
        "id": "iJYRA1OZ3ld7"
      },
      "source": [
        "## Training"
      ]
    },
    {
      "cell_type": "code",
      "metadata": {
        "id": "3Bu_85Dt3leB"
      },
      "source": [
        "run train_stnn.py --outputdir Italy --model classical --dataset Italy --lr 1e-3 --manualSeed 2804 --nhid 20 --nlayers 2 --nhid_de 20 --nlayers_de 2  --wd_z 1e-4 --nz 3  --nt_train 250 --nt_val 10 --es_start 2300 --reduce_start 2300 --show True"
      ],
      "execution_count": null,
      "outputs": []
    },
    {
      "cell_type": "code",
      "metadata": {
        "id": "sMLA24EK3leO"
      },
      "source": [
        "run train_stnn.py --outputdir Italy --model A --dataset Italy --lr 1e-3 --manualSeed 2816 --nhid 20 --nlayers 2 --nhid_de 20 --nlayers_de 2 --wd_z 5e-5 --nz 3  --nt_train 250 --nt_val 10 --es_start 2400 --reduce_start 2400 --show True"
      ],
      "execution_count": null,
      "outputs": []
    },
    {
      "cell_type": "code",
      "metadata": {
        "id": "kb6ZECcd3leS"
      },
      "source": [
        "run train_stnn.py --outputdir Italy --model I --dataset Italy --lr 1e-3 --manualSeed 6302 --nhid 20 --nlayers 2 --nhid_de 20 --nlayers_de 2 --nhid_in 20 --nlayers_in 2 --wd_z 1e-4 --nz 3  --nt_train 250 --nt_val 10 --es_start 3500 --reduce_start 3500 --show True"
      ],
      "execution_count": null,
      "outputs": []
    },
    {
      "cell_type": "markdown",
      "metadata": {
        "id": "9T1iatY_3leX"
      },
      "source": [
        "## Result"
      ]
    },
    {
      "cell_type": "code",
      "metadata": {
        "colab": {
          "base_uri": "https://localhost:8080/",
          "height": 244
        },
        "id": "40HLOLXo3leb",
        "outputId": "eae47f14-5db1-45e4-8054-0d6118bdaf3e"
      },
      "source": [
        "Italy_result_dir = \"./output/Italy\"\n",
        "Italy_result = result.FolderResult(Italy_result_dir)\n",
        "Italy_result_df = Italy_result.get_result_df(col=['test_sum_score', 'test_rmse_score', 'val_sum_score', 'val_rmse_score'])\n",
        "Italy_result_df"
      ],
      "execution_count": null,
      "outputs": [
        {
          "output_type": "stream",
          "text": [
            "Load stnn-classical model.\n",
            "Load stnn-A model.\n",
            "Load stnn-I model.\n"
          ],
          "name": "stdout"
        },
        {
          "output_type": "execute_result",
          "data": {
            "text/html": [
              "<div>\n",
              "<style scoped>\n",
              "    .dataframe tbody tr th:only-of-type {\n",
              "        vertical-align: middle;\n",
              "    }\n",
              "\n",
              "    .dataframe tbody tr th {\n",
              "        vertical-align: top;\n",
              "    }\n",
              "\n",
              "    .dataframe thead th {\n",
              "        text-align: right;\n",
              "    }\n",
              "</style>\n",
              "<table border=\"1\" class=\"dataframe\">\n",
              "  <thead>\n",
              "    <tr style=\"text-align: right;\">\n",
              "      <th></th>\n",
              "      <th>test_sum_score</th>\n",
              "      <th>test_rmse_score</th>\n",
              "      <th>val_sum_score</th>\n",
              "      <th>val_rmse_score</th>\n",
              "    </tr>\n",
              "  </thead>\n",
              "  <tbody>\n",
              "    <tr>\n",
              "      <th>stnn-classical_08-05-21-11-40_6638</th>\n",
              "      <td>13284</td>\n",
              "      <td>57607.1</td>\n",
              "      <td>36812.9</td>\n",
              "      <td>30069.2</td>\n",
              "    </tr>\n",
              "    <tr>\n",
              "      <th>stnn-A_08-05-21-15-28_9644</th>\n",
              "      <td>14794.7</td>\n",
              "      <td>43236.9</td>\n",
              "      <td>23727.2</td>\n",
              "      <td>10612.5</td>\n",
              "    </tr>\n",
              "    <tr>\n",
              "      <th>stnn-I_08-05-21-26-55_5063</th>\n",
              "      <td>20643.6</td>\n",
              "      <td>42396.1</td>\n",
              "      <td>10249.6</td>\n",
              "      <td>7172.11</td>\n",
              "    </tr>\n",
              "  </tbody>\n",
              "</table>\n",
              "</div>"
            ],
            "text/plain": [
              "                                   test_sum_score  ... val_rmse_score\n",
              "stnn-classical_08-05-21-11-40_6638          13284  ...        30069.2\n",
              "stnn-A_08-05-21-15-28_9644                14794.7  ...        10612.5\n",
              "stnn-I_08-05-21-26-55_5063                20643.6  ...        7172.11\n",
              "\n",
              "[3 rows x 4 columns]"
            ]
          },
          "metadata": {
            "tags": []
          },
          "execution_count": 18
        }
      ]
    },
    {
      "cell_type": "code",
      "metadata": {
        "colab": {
          "base_uri": "https://localhost:8080/",
          "height": 333
        },
        "id": "cFg9sGBU3lei",
        "outputId": "60f454b5-f945-4c50-edb2-24576b19edb4"
      },
      "source": [
        "Italy_result.plot_fitting(start_time=200)"
      ],
      "execution_count": null,
      "outputs": [
        {
          "output_type": "stream",
          "text": [
            "Load stnn-classical model.\n",
            "Load stnn-A model.\n",
            "Load stnn-I model.\n",
            "Italy\n"
          ],
          "name": "stdout"
        },
        {
          "output_type": "display_data",
          "data": {
            "image/png": "[encoded data removed]",
            "text/plain": [
              "<Figure size 432x288 with 1 Axes>"
            ]
          },
          "metadata": {
            "tags": [],
            "needs_background": "light"
          }
        }
      ]
    },
    {
      "cell_type": "markdown",
      "metadata": {
        "id": "TmMiC_2b3les"
      },
      "source": [
        ""
      ]
    }
  ]
}