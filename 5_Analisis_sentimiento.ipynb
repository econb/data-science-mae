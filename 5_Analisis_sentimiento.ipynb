{
  "nbformat": 4,
  "nbformat_minor": 0,
  "metadata": {
    "colab": {
      "name": "5_Analisis_sentimiento",
      "provenance": [],
      "collapsed_sections": [],
      "authorship_tag": "ABX9TyPkSvsu0RWz8TWiZ0nKT+Z6",
      "include_colab_link": true
    },
    "kernelspec": {
      "name": "python3",
      "display_name": "Python 3"
    },
    "language_info": {
      "name": "python"
    }
  },
  "cells": [
    {
      "cell_type": "markdown",
      "metadata": {
        "id": "view-in-github",
        "colab_type": "text"
      },
      "source": [
        "<a href=\"https://colab.research.google.com/github/econb/data-science-mae/blob/main/5_Analisis_sentimiento.ipynb\" target=\"_parent\"><img src=\"https://colab.research.google.com/assets/colab-badge.svg\" alt=\"Open In Colab\"/></a>"
      ]
    },
    {
      "cell_type": "markdown",
      "metadata": {
        "id": "zrVmikhAu2bp"
      },
      "source": [
        "# Análisis de Sentimiento"
      ]
    }
  ]
}